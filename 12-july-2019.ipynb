{
 "cells": [
  {
   "cell_type": "markdown",
   "metadata": {},
   "source": [
    "### Regular Expression \n",
    "* Pattern Matching"
   ]
  },
  {
   "cell_type": "code",
   "execution_count": null,
   "metadata": {},
   "outputs": [],
   "source": [
    "# Function to test two digit number matching\n",
    "import re\n",
    "def twodigitmatching(n):\n",
    "    pattern = '^[0-9]{2}$'\n",
    "    n = str(n)\n",
    "    if re.match(pattern,n):\n",
    "        return True\n",
    "    return False\n",
    "print(twodigitmatching(12))\n",
    "print(twodigitmatching(123))"
   ]
  },
  {
   "cell_type": "code",
   "execution_count": null,
   "metadata": {},
   "outputs": [],
   "source": [
    "def testusername(s):\n",
    "    pattern = '^[a-zA-Z]{8}$'\n",
    "    if re.match(pattern,s):\n",
    "        return True\n",
    "    return False\n",
    "print(testusername('GitamHYD'))\n",
    "print(testusername('Gitam188'))"
   ]
  },
  {
   "cell_type": "markdown",
   "metadata": {},
   "source": [
    "## Regular expression to match the Indian Mobile number\n",
    "* 10 digits"
   ]
  },
  {
   "cell_type": "code",
   "execution_count": null,
   "metadata": {},
   "outputs": [],
   "source": [
    "def indiannumber(n):\n",
    "    pattern = '^[0-9]{10}$'\n",
    "    if re.match(pattern,n):\n",
    "        return True\n",
    "    return False\n",
    "print(indiannumber('9876857430'))\n",
    "print(indiannumber('6758749381'))"
   ]
  },
  {
   "cell_type": "markdown",
   "metadata": {},
   "source": [
    "## Regular Expression to validate email ID"
   ]
  },
  {
   "cell_type": "code",
   "execution_count": null,
   "metadata": {},
   "outputs": [],
   "source": [
    "def emailid(email):\n",
    "    pattern = '^[0-9a-z][0-9a-z_.]{5,14}[@][a-z0-9]{3,18}[.][a-z]{3}$'\n",
    "    if re.match(pattern,email):\n",
    "        return True\n",
    "    return False\n",
    "print(emailid('xyz678@gmail.com'))\n",
    "print(emailid('675874938'))"
   ]
  },
  {
   "cell_type": "markdown",
   "metadata": {},
   "source": [
    "## Regular Expression to validate roll number"
   ]
  },
  {
   "cell_type": "code",
   "execution_count": null,
   "metadata": {},
   "outputs": [],
   "source": [
    "def rollnumber(n):\n",
    "    pattern = '^[0-9]{12}$'\n",
    "    if re.match(pattern,n):\n",
    "        return True\n",
    "    return False\n",
    "print(rollnumber('221810801023'))\n",
    "print(rollnumber('675874938aiufhadhf'))"
   ]
  },
  {
   "cell_type": "markdown",
   "metadata": {},
   "source": [
    "## Regular Expression For Validation of Date \n"
   ]
  },
  {
   "cell_type": "code",
   "execution_count": null,
   "metadata": {},
   "outputs": [],
   "source": [
    "import re\n",
    "def time(n):\n",
    "    pattern = '^[0-9]{2}:][0-59][2]$'\n",
    "    if re.match(pattern,n):\n",
    "        return True\n",
    "    return False\n",
    "print(time('15:30'))\n",
    "print(time('675874938'))"
   ]
  },
  {
   "cell_type": "markdown",
   "metadata": {},
   "source": [
    "# Python Turtle\n",
    "* turtle Graphics"
   ]
  },
  {
   "cell_type": "code",
   "execution_count": null,
   "metadata": {},
   "outputs": [],
   "source": [
    "import turtle\n",
    "a1 = turtle.Turtle()\n",
    "turtle.forward(100)\n",
    "turtle.done()"
   ]
  },
  {
   "cell_type": "code",
   "execution_count": null,
   "metadata": {},
   "outputs": [],
   "source": [
    "# graphics for square\n",
    "import turtle as tt\n",
    "a1 = tt.Turtle()\n",
    "a1.forward(150)\n",
    "a1.left(90)\n",
    "a1.forward(150)\n",
    "a1.left(90)\n",
    "a1.forward(150)\n",
    "a1.left(90)\n",
    "a1.forward(150)\n",
    "a1.left(90)\n",
    "tt.done()"
   ]
  },
  {
   "cell_type": "code",
   "execution_count": null,
   "metadata": {},
   "outputs": [],
   "source": [
    "# graphics for rectangle\n",
    "import turtle as tt\n",
    "a1 = tt.Turtle()\n",
    "a1.forward(150)\n",
    "a1.left(90)\n",
    "a1.forward(200)\n",
    "a1.left(90)\n",
    "a1.forward(150)\n",
    "a1.left(90)\n",
    "a1.forward(200)\n",
    "a1.left(90)\n",
    "tt.done()\n"
   ]
  },
  {
   "cell_type": "code",
   "execution_count": null,
   "metadata": {},
   "outputs": [],
   "source": [
    "# graphics for triple square\n",
    "import turtle as tt\n",
    "a1 = tt.Turtle()\n",
    "a1.forward(150)\n",
    "a1.left(90)\n",
    "a1.forward(150)\n",
    "a1.left(90)\n",
    "a1.forward(150)\n",
    "a1.left(90)\n",
    "a1.forward(150)\n",
    "a1.left(90)\n",
    "a1.left(60)\n",
    "a1.forward(150)\n",
    "a1.left(90)\n",
    "a1.forward(150)\n",
    "a1.left(90)\n",
    "a1.forward(150)\n",
    "a1.left(90)\n",
    "a1.forward(150)\n",
    "a1.left(90)\n",
    "a1.left(60)\n",
    "a1.forward(150)\n",
    "a1.left(90)\n",
    "a1.forward(150)\n",
    "a1.left(90)\n",
    "a1.forward(150)\n",
    "a1.left(90)\n",
    "a1.forward(150)\n",
    "a1.left(90)\n",
    "tt.done()"
   ]
  },
  {
   "cell_type": "code",
   "execution_count": null,
   "metadata": {},
   "outputs": [],
   "source": [
    "# spiral squares\n",
    "import turtle as t\n",
    "a1 = t.Turtle()\n",
    "a1.pencolor('green')\n",
    "for i in range(250):\n",
    "    a1.forward(i)\n",
    "    a1.left(89)\n",
    "t.done()"
   ]
  },
  {
   "cell_type": "code",
   "execution_count": null,
   "metadata": {},
   "outputs": [],
   "source": [
    "from turtle import *\n",
    "colors = ['blue','green','red','orange','cyan','yellow','turquoise','pink','black','magenta']\n",
    "for x in range(360):\n",
    "    pencolor(colors[x%10])\n",
    "    width(x/100 + 1)\n",
    "    forward(x)\n",
    "    left(69)"
   ]
  },
  {
   "cell_type": "code",
   "execution_count": null,
   "metadata": {},
   "outputs": [],
   "source": [
    "# Python program to user input pattern \n",
    "# using Turtle Programming \n",
    "import turtle   #Outside_In \n",
    "import turtle \n",
    "import time \n",
    "import random \n",
    "  \n",
    "print (\"This program draws shapes based on the number you enter in a uniform pattern.\") \n",
    "num_str = input(\"Enter the side number of the shape you want to draw: \") \n",
    "if num_str.isdigit(): \n",
    "    squares = int(num_str) \n",
    "  \n",
    "angle = 180 - 180*(squares-2)/squares \n",
    "  \n",
    "turtle.up \n",
    "  \n",
    "x = 0 \n",
    "y = 0\n",
    "turtle.setpos(x, y) \n",
    "  \n",
    "  \n",
    "numshapes = 8\n",
    "for x in range(numshapes): \n",
    "    turtle.color(random.random(), random.random(), random.random()) \n",
    "    x += 5\n",
    "    y += 5\n",
    "    turtle.forward(x) \n",
    "    turtle.left(y) \n",
    "    for i in range(squares): \n",
    "        turtle.begin_fill() \n",
    "        turtle.down() \n",
    "        turtle.forward(40) \n",
    "        turtle.left(angle) \n",
    "        turtle.forward(40) \n",
    "        print (turtle.pos()) \n",
    "        turtle.up() \n",
    "        turtle.end_fill() \n",
    "  \n",
    "time.sleep(11) \n",
    "turtle.bye() "
   ]
  },
  {
   "cell_type": "code",
   "execution_count": null,
   "metadata": {},
   "outputs": [],
   "source": [
    "#undo() function will undo the turtles last action\n",
    "from turtle import *\n",
    "pencolor('blue')\n",
    "pensize(20)\n",
    "for i in range(15):\n",
    "    forward(100)\n",
    "    left(90)\n",
    "    forward(100)\n",
    "    left(90)\n",
    "    forward(100)\n",
    "    left(90)\n",
    "    forward(100)\n",
    "    left(90)\n",
    "pencolor('red')\n",
    "for i in range(90):\n",
    "    undo()"
   ]
  },
  {
   "cell_type": "code",
   "execution_count": null,
   "metadata": {},
   "outputs": [],
   "source": [
    "# pencolor and pensize\n",
    "from turtle import *\n",
    "pensize(20)\n",
    "forward(150)"
   ]
  },
  {
   "cell_type": "code",
   "execution_count": null,
   "metadata": {},
   "outputs": [],
   "source": [
    "# generate rectangle\n",
    "# generate a circle\n",
    "# fill color in the rectanglw and circle\n",
    "# generate a star"
   ]
  }
 ],
 "metadata": {
  "kernelspec": {
   "display_name": "Python 3",
   "language": "python",
   "name": "python3"
  },
  "language_info": {
   "codemirror_mode": {
    "name": "ipython",
    "version": 3
   },
   "file_extension": ".py",
   "mimetype": "text/x-python",
   "name": "python",
   "nbconvert_exporter": "python",
   "pygments_lexer": "ipython3",
   "version": "3.7.3"
  }
 },
 "nbformat": 4,
 "nbformat_minor": 2
}
