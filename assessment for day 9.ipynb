{
 "cells": [
  {
   "cell_type": "code",
   "execution_count": 9,
   "metadata": {},
   "outputs": [],
   "source": [
    "def findSum(arr,  n):  \n",
    "    arr.sort() \n",
    "    sum = arr[0] \n",
    "    for i in range(0,n-1): \n",
    "        if (arr[i] != arr[i+1]): \n",
    "            sum = sum + arr[i+1] \n",
    "    return sum \n",
    "def main(): \n",
    "    arr= [1, 2, 3, 1, 1, 4, 5, 6] \n",
    "    n = len(arr) \n",
    "    print(findSum(arr, n)) \n",
    "    "
   ]
  },
  {
   "cell_type": "code",
   "execution_count": 10,
   "metadata": {},
   "outputs": [
    {
     "name": "stdout",
     "output_type": "stream",
     "text": [
      "3 2 1 1 0 "
     ]
    }
   ],
   "source": [
    "# To print fibonacci numbers in reverse order with input as 5\n",
    "def reverseFibonacci(n): \n",
    "    a = [0] * n   \n",
    "    a[0] = 0 \n",
    "    a[1] = 1  \n",
    "    for i in range(2, n):    \n",
    "        a[i] = a[i - 2] + a[i - 1]  \n",
    "    for i in range(n - 1, -1 , -1):   \n",
    "        print(a[i],end=\" \")   \n",
    "n = 5\n",
    "reverseFibonacci(n)  "
   ]
  },
  {
   "cell_type": "code",
   "execution_count": 11,
   "metadata": {},
   "outputs": [
    {
     "name": "stdout",
     "output_type": "stream",
     "text": [
      "89 55 34 21 13 8 5 3 2 1 1 0 "
     ]
    }
   ],
   "source": [
    "# To print fibonacci numbers in reverse order with input as 12\n",
    "def reverseFibonacci(n): \n",
    "    a = [0] * n   \n",
    "    a[0] = 0 \n",
    "    a[1] = 1  \n",
    "    for i in range(2, n):    \n",
    "        a[i] = a[i - 2] + a[i - 1]  \n",
    "    for i in range(n - 1, -1 , -1):   \n",
    "        print(a[i],end=\" \")   \n",
    "n = 12\n",
    "reverseFibonacci(n)  "
   ]
  },
  {
   "cell_type": "code",
   "execution_count": 12,
   "metadata": {},
   "outputs": [
    {
     "name": "stdout",
     "output_type": "stream",
     "text": [
      "6\n"
     ]
    }
   ],
   "source": [
    "#The program must accept a string S as the input. The program print the longest word from the string S as the output. If two or more longest words are of same length then consider the first one.\n",
    "def LongestWordLength(str): \n",
    "    n = len(str) \n",
    "    res = 0; curr_len = 0\n",
    "    for i in range(0, n):  \n",
    "        if (str[i] != ' '): \n",
    "            curr_len += 1 \n",
    "        else: \n",
    "            res = max(res, curr_len) \n",
    "            curr_len = 0 \n",
    "    return max(res, curr_len)  \n",
    "s = \"Python is stupid\"\n",
    "print(LongestWordLength(s)) "
   ]
  },
  {
   "cell_type": "code",
   "execution_count": null,
   "metadata": {},
   "outputs": [],
   "source": []
  }
 ],
 "metadata": {
  "kernelspec": {
   "display_name": "Python 3",
   "language": "python",
   "name": "python3"
  },
  "language_info": {
   "codemirror_mode": {
    "name": "ipython",
    "version": 3
   },
   "file_extension": ".py",
   "mimetype": "text/x-python",
   "name": "python",
   "nbconvert_exporter": "python",
   "pygments_lexer": "ipython3",
   "version": "3.7.3"
  }
 },
 "nbformat": 4,
 "nbformat_minor": 2
}
