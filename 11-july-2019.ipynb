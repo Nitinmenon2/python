{
 "cells": [
  {
   "cell_type": "markdown",
   "metadata": {},
   "source": [
    "### Files Handling in python \n",
    " - File :- Doucument containing information resides on the permanent storage\n",
    " - Different types of files :- txt,doc,pdf,csv\n",
    " - Input --keyboard\n",
    " - Output -- File\n",
    " \n",
    "### Modes of the file I/O\n",
    "* 'w' --This mode is used to file writing \n",
    "        --If the file is not present first it creates the file and write "
   ]
  },
  {
   "cell_type": "code",
   "execution_count": 1,
   "metadata": {},
   "outputs": [
    {
     "name": "stdout",
     "output_type": "stream",
     "text": [
      "File is created and data has written\n"
     ]
    }
   ],
   "source": [
    "# Function to create a file and write to the file\n",
    "def createFile(filename):\n",
    "    f = open(filename,'w')\n",
    "    for i in range(10):\n",
    "        f.write(\"This is %s Line \\n\"% i)\n",
    "    print(\"File is created and data has written\")\n",
    "    return\n",
    "createFile('file.txt')"
   ]
  },
  {
   "cell_type": "code",
   "execution_count": null,
   "metadata": {},
   "outputs": [],
   "source": [
    "ls"
   ]
  },
  {
   "cell_type": "code",
   "execution_count": null,
   "metadata": {},
   "outputs": [],
   "source": [
    "import os \n",
    "cat file.txt"
   ]
  },
  {
   "cell_type": "code",
   "execution_count": 2,
   "metadata": {},
   "outputs": [
    {
     "name": "stdout",
     "output_type": "stream",
     "text": [
      "File is created and data has written\n"
     ]
    }
   ],
   "source": [
    "def createFile(filename):\n",
    "    f = open(filename,'w')\n",
    "    f.write(\"This is Line \\n\")\n",
    "    print(\"File is created and data has written\")\n",
    "    return\n",
    "createFile('file.txt')"
   ]
  },
  {
   "cell_type": "code",
   "execution_count": 3,
   "metadata": {},
   "outputs": [
    {
     "name": "stdout",
     "output_type": "stream",
     "text": [
      "File is created and data has written\n"
     ]
    }
   ],
   "source": [
    "def appendData(filename):\n",
    "    f = open(filename,'a')\n",
    "    for i in range(10):\n",
    "        f.write(\"This is %s Line \\n\"% i)\n",
    "    print(\"File is created and data has written\")\n",
    "    return\n",
    "appendData('file2.txt')"
   ]
  },
  {
   "cell_type": "code",
   "execution_count": 4,
   "metadata": {},
   "outputs": [
    {
     "name": "stdout",
     "output_type": "stream",
     "text": [
      "File is created and data has written\n"
     ]
    }
   ],
   "source": [
    "def createFile(filename):\n",
    "    f = open(filename,'a')\n",
    "    f.write(\"This is notepad \\n\")\n",
    "    f.write(\"This is newLine \\n\")\n",
    "    print(\"File is created and data has written\")\n",
    "    return\n",
    "createFile('file2.txt')"
   ]
  },
  {
   "cell_type": "code",
   "execution_count": 5,
   "metadata": {},
   "outputs": [
    {
     "name": "stdout",
     "output_type": "stream",
     "text": [
      "This is 0 Line \n",
      "This is 1 Line \n",
      "This is 2 Line \n",
      "This is 3 Line \n",
      "This is 4 Line \n",
      "This is 5 Line \n",
      "This is 6 Line \n",
      "This is 7 Line \n",
      "This is 8 Line \n",
      "This is 9 Line \n",
      "This is notepad \n",
      "This is newLine \n",
      "\n"
     ]
    }
   ],
   "source": [
    "#function to read of the file\n",
    "def readfile(filename):\n",
    "    f = open(filename,'r')\n",
    "    if f.mode == 'r':\n",
    "        x = f.read()\n",
    "        print(x)\n",
    "    f.close()\n",
    "    return\n",
    "readfile('file2.txt')"
   ]
  },
  {
   "cell_type": "code",
   "execution_count": 14,
   "metadata": {},
   "outputs": [
    {
     "name": "stdout",
     "output_type": "stream",
     "text": [
      "Enter the filename file.txt\n",
      "read or write the filename r\n",
      "This is Line \n",
      "\n"
     ]
    }
   ],
   "source": [
    "#function to read the file\n",
    "def readFile2(filename,mode):\n",
    "    with open(filename,mode) as f:\n",
    "        if f.mode == 'r':\n",
    "            data = f.read()\n",
    "            print(data)\n",
    "        elif f.mode == 'a':\n",
    "            f.write('Data to the file')\n",
    "            print('The data successfully written')\n",
    "    f.close()\n",
    "    return\n",
    "filename = input('Enter the filename ')\n",
    "mode = input('read or write the filename ')\n",
    "readFile2(filename,mode)"
   ]
  },
  {
   "cell_type": "code",
   "execution_count": 12,
   "metadata": {},
   "outputs": [
    {
     "name": "stdout",
     "output_type": "stream",
     "text": [
      "Enter the filename file2.txt\n",
      "Enter the word This\n"
     ]
    },
    {
     "data": {
      "text/plain": [
       "12"
      ]
     },
     "execution_count": 12,
     "metadata": {},
     "output_type": "execute_result"
    }
   ],
   "source": [
    "#data analysis\n",
    "#word count program\n",
    "def wordcount(filename,word):\n",
    "    with open(filename,'r') as f:\n",
    "        if f.mode == 'r':\n",
    "            x = f.read()\n",
    "            li = x.split()\n",
    "    cnt = li.count(word)        \n",
    "    return cnt\n",
    "filename = input('Enter the filename ')\n",
    "word = input('Enter the word ')\n",
    "wordcount(filename,word)"
   ]
  },
  {
   "cell_type": "code",
   "execution_count": 16,
   "metadata": {},
   "outputs": [
    {
     "name": "stdout",
     "output_type": "stream",
     "text": [
      "Enter the Filename : file2.txt\n"
     ]
    },
    {
     "data": {
      "text/plain": [
       "210"
      ]
     },
     "execution_count": 16,
     "metadata": {},
     "output_type": "execute_result"
    }
   ],
   "source": [
    "#character count from the given file  \n",
    "def charcount(filename):\n",
    "    with open(filename,'r') as f:\n",
    "        if f.mode == 'r':\n",
    "            x = f.read()\n",
    "            li = list(x) #covert the string\n",
    "    return len(li)\n",
    "filename = input('Enter the Filename : ')\n",
    "charcount(filename)"
   ]
  },
  {
   "cell_type": "code",
   "execution_count": 19,
   "metadata": {},
   "outputs": [
    {
     "name": "stdout",
     "output_type": "stream",
     "text": [
      "enter the filename : file2.txt\n"
     ]
    },
    {
     "data": {
      "text/plain": [
       "13"
      ]
     },
     "execution_count": 19,
     "metadata": {},
     "output_type": "execute_result"
    }
   ],
   "source": [
    "# Function to find the number of lines in the input files\n",
    "# Input --filename(file2.txt)\n",
    "# Output --No' of lines(12)\n",
    "\n",
    "def CountOfLines(filename):\n",
    "    with open(filename,'r') as f:\n",
    "        if f.mode == 'r':\n",
    "            x = f.read()\n",
    "            li = x.split('\\n')\n",
    "    return len(li)\n",
    "filename = input('enter the filename : ')\n",
    "CountOfLines(filename)"
   ]
  },
  {
   "cell_type": "code",
   "execution_count": 31,
   "metadata": {},
   "outputs": [
    {
     "name": "stdout",
     "output_type": "stream",
     "text": [
      "Enter the filename :file2.txt\n"
     ]
    },
    {
     "data": {
      "text/plain": [
       "'Upper Case = 24, Lower Case = 115'"
      ]
     },
     "execution_count": 31,
     "metadata": {},
     "output_type": "execute_result"
    }
   ],
   "source": [
    "# Function to print the upper and lower characters\n",
    "def caseCount(filename):\n",
    "    cntUpper = 0\n",
    "    cntlower = 0\n",
    "    with open(filename,'r') as f:\n",
    "        if f.mode == 'r':\n",
    "            x = f.read()\n",
    "            li = list(x)\n",
    "    for i in li:\n",
    "         if i.isupper():\n",
    "            cntUpper += 1 #cntUpper = cntUpper + 1\n",
    "         elif i.islower():\n",
    "            cntlower += 1\n",
    "    output = 'Upper Case = {0}, Lower Case = {1}'.format(cntUpper,cntlower)\n",
    "    return output\n",
    "filename = input('Enter the filename :')\n",
    "caseCount(filename)                "
   ]
  },
  {
   "cell_type": "code",
   "execution_count": 39,
   "metadata": {},
   "outputs": [
    {
     "data": {
      "text/plain": [
       "'C:\\\\Users\\\\Archana\\\\Desktop\\\\py1'"
      ]
     },
     "execution_count": 39,
     "metadata": {},
     "output_type": "execute_result"
    }
   ],
   "source": [
    "pwd"
   ]
  },
  {
   "cell_type": "code",
   "execution_count": 38,
   "metadata": {},
   "outputs": [
    {
     "ename": "FileNotFoundError",
     "evalue": "[WinError 3] The system cannot find the path specified: 'py1/'",
     "output_type": "error",
     "traceback": [
      "\u001b[1;31m---------------------------------------------------------------------------\u001b[0m",
      "\u001b[1;31mFileNotFoundError\u001b[0m                         Traceback (most recent call last)",
      "\u001b[1;32m<ipython-input-38-0604ebab27cb>\u001b[0m in \u001b[0;36m<module>\u001b[1;34m\u001b[0m\n\u001b[0;32m      1\u001b[0m \u001b[1;32mimport\u001b[0m \u001b[0mos\u001b[0m\u001b[1;33m\u001b[0m\u001b[1;33m\u001b[0m\u001b[0m\n\u001b[1;32m----> 2\u001b[1;33m \u001b[0mos\u001b[0m\u001b[1;33m.\u001b[0m\u001b[0mlistdir\u001b[0m\u001b[1;33m(\u001b[0m\u001b[1;34m'py1/'\u001b[0m\u001b[1;33m)\u001b[0m\u001b[1;33m\u001b[0m\u001b[1;33m\u001b[0m\u001b[0m\n\u001b[0m",
      "\u001b[1;31mFileNotFoundError\u001b[0m: [WinError 3] The system cannot find the path specified: 'py1/'"
     ]
    }
   ],
   "source": [
    "import os \n",
    "os.listdir('py1/')"
   ]
  },
  {
   "cell_type": "code",
   "execution_count": 40,
   "metadata": {},
   "outputs": [
    {
     "name": "stdout",
     "output_type": "stream",
     "text": [
      " Volume in drive C has no label.\n",
      " Volume Serial Number is FABC-701A\n",
      "\n",
      " Directory of C:\\Users\\Archana\\Desktop\\py1\n",
      "\n",
      "11-Jul-19  12:35 PM    <DIR>          .\n",
      "11-Jul-19  12:35 PM    <DIR>          ..\n",
      "11-Jul-19  10:44 AM    <DIR>          .ipynb_checkpoints\n",
      "11-Jul-19  10:45 AM                15 file.txt\n",
      "11-Jul-19  10:53 AM               222 file2.txt\n",
      "05-Jul-19  09:23 AM                24 gitpy1.txt\n",
      "05-Jul-19  03:49 PM            10,537 py_basic.ipynb\n",
      "10-Jul-19  01:01 PM            11,164 py_dict.ipynb\n",
      "11-Jul-19  12:35 PM             9,855 py_file.ipynb\n",
      "10-Jul-19  03:56 PM             4,551 py_module.ipynb\n",
      "               7 File(s)         36,368 bytes\n",
      "               3 Dir(s)  106,497,847,296 bytes free\n"
     ]
    }
   ],
   "source": [
    "ls\n"
   ]
  },
  {
   "cell_type": "code",
   "execution_count": 41,
   "metadata": {},
   "outputs": [
    {
     "name": "stdout",
     "output_type": "stream",
     "text": [
      "C:\\Users\\Archana\\Desktop\n"
     ]
    }
   ],
   "source": [
    "cd .."
   ]
  },
  {
   "cell_type": "code",
   "execution_count": 42,
   "metadata": {},
   "outputs": [
    {
     "data": {
      "text/plain": [
       "['.git',\n",
       " '.ipynb_checkpoints',\n",
       " 'file.txt',\n",
       " 'file2.txt',\n",
       " 'gitpy1.txt',\n",
       " 'py_basic.ipynb',\n",
       " 'py_dict.ipynb',\n",
       " 'py_file.ipynb',\n",
       " 'py_module.ipynb']"
      ]
     },
     "execution_count": 42,
     "metadata": {},
     "output_type": "execute_result"
    }
   ],
   "source": [
    "import os \n",
    "os.listdir('py1/')"
   ]
  },
  {
   "cell_type": "code",
   "execution_count": 44,
   "metadata": {},
   "outputs": [
    {
     "name": "stdout",
     "output_type": "stream",
     "text": [
      "C:\\Users\\Archana\\Desktop\n"
     ]
    }
   ],
   "source": [
    "cd ..\n"
   ]
  },
  {
   "cell_type": "markdown",
   "metadata": {},
   "source": [
    "* older version --os.listdir()\n",
    "* newer version --os.scandir() and pathlib.path()"
   ]
  },
  {
   "cell_type": "code",
   "execution_count": 45,
   "metadata": {},
   "outputs": [
    {
     "name": "stdout",
     "output_type": "stream",
     "text": [
      "<DirEntry '.git'>\n",
      "<DirEntry '.ipynb_checkpoints'>\n",
      "<DirEntry 'file.txt'>\n",
      "<DirEntry 'file2.txt'>\n",
      "<DirEntry 'gitpy1.txt'>\n",
      "<DirEntry 'py_basic.ipynb'>\n",
      "<DirEntry 'py_dict.ipynb'>\n",
      "<DirEntry 'py_file.ipynb'>\n",
      "<DirEntry 'py_module.ipynb'>\n"
     ]
    }
   ],
   "source": [
    "li=os.scandir('py1/')\n",
    "for i in li:\n",
    "    print(i)"
   ]
  },
  {
   "cell_type": "code",
   "execution_count": 6,
   "metadata": {},
   "outputs": [
    {
     "name": "stdout",
     "output_type": "stream",
     "text": [
      ".git\n",
      ".ipynb_checkpoints\n",
      "file.txt\n",
      "file2.txt\n",
      "gitpy1.txt\n",
      "py_basic.ipynb\n",
      "py_dict.ipynb\n",
      "py_file.ipynb\n",
      "py_module.ipynb\n"
     ]
    }
   ],
   "source": [
    "from pathlib import Path\n",
    "li = Path('py1/')\n",
    "for i in li.iterdir():\n",
    "    print(i.name)"
   ]
  },
  {
   "cell_type": "code",
   "execution_count": 1,
   "metadata": {},
   "outputs": [
    {
     "name": "stdout",
     "output_type": "stream",
     "text": [
      "C:\\Users\\Archana\\Desktop\n"
     ]
    }
   ],
   "source": [
    "cd .."
   ]
  },
  {
   "cell_type": "code",
   "execution_count": null,
   "metadata": {},
   "outputs": [],
   "source": [
    "# Listing all files in Directory"
   ]
  },
  {
   "cell_type": "code",
   "execution_count": 8,
   "metadata": {},
   "outputs": [
    {
     "name": "stdout",
     "output_type": "stream",
     "text": [
      "file.txt\n",
      "file2.txt\n",
      "gitpy1.txt\n",
      "py_basic.ipynb\n",
      "py_dict.ipynb\n",
      "py_file.ipynb\n",
      "py_module.ipynb\n"
     ]
    }
   ],
   "source": [
    "import os \n",
    "dirPath = 'py1/'\n",
    "for i in os.listdir(dirPath): # All files and folder\n",
    "    if os.path.isfile(os.path.join(dirPath,i)):\n",
    "        print(i)"
   ]
  },
  {
   "cell_type": "code",
   "execution_count": 9,
   "metadata": {},
   "outputs": [
    {
     "name": "stdout",
     "output_type": "stream",
     "text": [
      "file.txt\n",
      "file2.txt\n",
      "gitpy1.txt\n",
      "py_basic.ipynb\n",
      "py_dict.ipynb\n",
      "py_file.ipynb\n",
      "py_module.ipynb\n"
     ]
    }
   ],
   "source": [
    "import os \n",
    "dirPath = 'py1/'\n",
    "with os.scandir(dirPath) as f: # All files and folder\n",
    "    for i in f:\n",
    "        if i.is_file():\n",
    "            print(i.name)"
   ]
  },
  {
   "cell_type": "code",
   "execution_count": 10,
   "metadata": {},
   "outputs": [
    {
     "name": "stdout",
     "output_type": "stream",
     "text": [
      ".git\n",
      ".ipynb_checkpoints\n"
     ]
    }
   ],
   "source": [
    "#Listing Subdirectories\n",
    "dirPath = 'py1/'\n",
    "for i in os.listdir(dirPath): # All files and folder\n",
    "    if os.path.isdir(os.path.join(dirPath,i)):\n",
    "        print(i)"
   ]
  },
  {
   "cell_type": "code",
   "execution_count": 16,
   "metadata": {},
   "outputs": [
    {
     "name": "stdout",
     "output_type": "stream",
     "text": [
      ".git\n",
      ".ipynb_checkpoints\n"
     ]
    }
   ],
   "source": [
    "from pathlib import Path \n",
    "dirPath = Path('py1/')\n",
    "for i in dirPath.iterdir(): # All files and folder\n",
    "    if i.is_dir():\n",
    "        print(i.name)"
   ]
  },
  {
   "cell_type": "code",
   "execution_count": 15,
   "metadata": {},
   "outputs": [
    {
     "name": "stdout",
     "output_type": "stream",
     "text": [
      ".git\n",
      ".ipynb_checkpoints\n"
     ]
    }
   ],
   "source": [
    "dirPath = 'py1/'\n",
    "with os.scandir(dirPath) as f: # All files and folder\n",
    "    for i in f:\n",
    "        if i.is_dir():\n",
    "            print(i.name)"
   ]
  },
  {
   "cell_type": "code",
   "execution_count": 17,
   "metadata": {},
   "outputs": [],
   "source": [
    "# Creating single directory\n",
    "import os\n",
    "os.mkdir('single')"
   ]
  },
  {
   "cell_type": "code",
   "execution_count": 18,
   "metadata": {},
   "outputs": [],
   "source": [
    "import pathlib\n",
    "p=pathlib.Path('TestFolder')\n",
    "p.mkdir()"
   ]
  },
  {
   "cell_type": "code",
   "execution_count": 19,
   "metadata": {},
   "outputs": [
    {
     "name": "stdout",
     "output_type": "stream",
     "text": [
      " Volume in drive C has no label.\n",
      " Volume Serial Number is FABC-701A\n",
      "\n",
      " Directory of C:\\Users\\Archana\\Desktop\n",
      "\n",
      "11-Jul-19  02:49 PM    <DIR>          .\n",
      "11-Jul-19  02:49 PM    <DIR>          ..\n",
      "24-May-19  11:58 AM            48,078 ar.docx\n",
      "06-May-19  05:45 PM            14,545 Archana Aakaram.docx\n",
      "06-May-19  10:01 AM               371 Archana_twitter.txt\n",
      "29-Apr-19  01:02 PM               247 aws_spark.txt\n",
      "04-Jul-19  12:20 PM               413 commands.txt\n",
      "26-May-19  03:51 PM            29,729 CV.docx\n",
      "31-May-19  12:15 PM             1,217 Downloads - Shortcut.lnk\n",
      "04-Jul-19  03:57 PM    <DIR>          gitbash\n",
      "10-May-19  12:52 PM         6,604,528 New WinRAR ZIP archive.zip\n",
      "29-Apr-19  09:41 AM                29 p1.py\n",
      "26-Apr-19  11:57 AM             1,464 putty_spark.ppk\n",
      "11-Jul-19  02:50 PM    <DIR>          py1\n",
      "07-Jun-19  06:46 PM    <DIR>          python1\n",
      "06-May-19  09:23 AM               307 ramya_twitter.txt\n",
      "03-Jul-19  03:33 PM    <DIR>          raptor\n",
      "11-Jul-19  02:49 PM    <DIR>          single\n",
      "11-Jul-19  02:49 PM    <DIR>          TestFolder\n",
      "30-Apr-19  09:01 AM     1,996,488,704 ubuntu-18.04.2-desktop-amd64.iso\n",
      "28-Apr-19  12:49 AM        25,586,225 virtualboxsetupwithubuntu.docx\n",
      "              13 File(s)  2,028,775,857 bytes\n",
      "               8 Dir(s)  106,505,973,760 bytes free\n"
     ]
    }
   ],
   "source": [
    "ls"
   ]
  },
  {
   "cell_type": "code",
   "execution_count": 23,
   "metadata": {},
   "outputs": [
    {
     "name": "stdout",
     "output_type": "stream",
     "text": [
      "C:\\Users\\Archana\\Desktop\n"
     ]
    }
   ],
   "source": [
    "cd .."
   ]
  },
  {
   "cell_type": "code",
   "execution_count": 22,
   "metadata": {},
   "outputs": [],
   "source": [
    "os.makedirs('2019/july')"
   ]
  },
  {
   "cell_type": "code",
   "execution_count": 24,
   "metadata": {},
   "outputs": [
    {
     "name": "stdout",
     "output_type": "stream",
     "text": [
      "py_basic.ipynb\n",
      "py_dict.ipynb\n",
      "py_file.ipynb\n",
      "py_module.ipynb\n"
     ]
    }
   ],
   "source": [
    "#file name pattern matching\n",
    "import os\n",
    "dirPath = 'py1/'\n",
    "for f_name in os.listdir(dirPath):\n",
    "    if f_name.endswith('.ipynb'):\n",
    "        print(f_name)"
   ]
  },
  {
   "cell_type": "code",
   "execution_count": 25,
   "metadata": {},
   "outputs": [
    {
     "name": "stdout",
     "output_type": "stream",
     "text": [
      ".ipynb_checkpoints\n"
     ]
    }
   ],
   "source": [
    "import os\n",
    "dirPath = 'py1/'\n",
    "for f_name in os.listdir(dirPath):\n",
    "    if f_name.startswith('.ipynb'):\n",
    "        print(f_name)"
   ]
  },
  {
   "cell_type": "code",
   "execution_count": 29,
   "metadata": {},
   "outputs": [
    {
     "name": "stdout",
     "output_type": "stream",
     "text": [
      "C:\\Users\\Archana\\Desktop\\py1\n"
     ]
    }
   ],
   "source": [
    "cd py1"
   ]
  },
  {
   "cell_type": "code",
   "execution_count": 30,
   "metadata": {},
   "outputs": [],
   "source": [
    "import os \n",
    "data_file = 'f.txt'\n",
    "os.remove(data_file)"
   ]
  },
  {
   "cell_type": "code",
   "execution_count": 33,
   "metadata": {},
   "outputs": [
    {
     "name": "stdout",
     "output_type": "stream",
     "text": [
      "C:\\Users\\Archana\\Desktop\\py1\n"
     ]
    }
   ],
   "source": [
    "cd py1"
   ]
  },
  {
   "cell_type": "code",
   "execution_count": 32,
   "metadata": {},
   "outputs": [],
   "source": [
    "data_dir='TestFolder'\n",
    "os.rmdir(data_dir)"
   ]
  },
  {
   "cell_type": "code",
   "execution_count": 35,
   "metadata": {},
   "outputs": [],
   "source": [
    "import shutil # Delete the tree of structure of folder\n",
    "data_dir = '2019'\n",
    "shutil.rmtree(data_dir)"
   ]
  },
  {
   "cell_type": "code",
   "execution_count": 36,
   "metadata": {},
   "outputs": [
    {
     "name": "stdout",
     "output_type": "stream",
     "text": [
      " Volume in drive C has no label.\n",
      " Volume Serial Number is FABC-701A\n",
      "\n",
      " Directory of C:\\Users\\Archana\\Desktop\\py1\n",
      "\n",
      "11-Jul-19  03:30 PM    <DIR>          .\n",
      "11-Jul-19  03:30 PM    <DIR>          ..\n",
      "11-Jul-19  10:44 AM    <DIR>          .ipynb_checkpoints\n",
      "11-Jul-19  10:45 AM                15 file.txt\n",
      "11-Jul-19  10:53 AM               222 file2.txt\n",
      "05-Jul-19  09:23 AM                24 gitpy1.txt\n",
      "05-Jul-19  03:49 PM            10,537 py_basic.ipynb\n",
      "10-Jul-19  01:01 PM            11,164 py_dict.ipynb\n",
      "11-Jul-19  03:30 PM            21,222 py_file.ipynb\n",
      "10-Jul-19  03:56 PM             4,551 py_module.ipynb\n",
      "               7 File(s)         47,735 bytes\n",
      "               3 Dir(s)  106,503,950,336 bytes free\n"
     ]
    }
   ],
   "source": [
    "ls"
   ]
  },
  {
   "cell_type": "markdown",
   "metadata": {},
   "source": [
    "### Regular Expressions\n",
    "- Used to specific Pattern matching\n",
    "- Symbolic notation of pattern\n"
   ]
  },
  {
   "cell_type": "markdown",
   "metadata": {},
   "source": [
    "* {} -- repeat\n",
    "* [] -- matches with the expression"
   ]
  }
 ],
 "metadata": {
  "kernelspec": {
   "display_name": "Python 3",
   "language": "python",
   "name": "python3"
  },
  "language_info": {
   "codemirror_mode": {
    "name": "ipython",
    "version": 3
   },
   "file_extension": ".py",
   "mimetype": "text/x-python",
   "name": "python",
   "nbconvert_exporter": "python",
   "pygments_lexer": "ipython3",
   "version": "3.7.3"
  }
 },
 "nbformat": 4,
 "nbformat_minor": 2
}
