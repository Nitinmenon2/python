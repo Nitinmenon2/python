{
 "cells": [
  {
   "cell_type": "markdown",
   "metadata": {},
   "source": [
    "# Find factors of a given number"
   ]
  },
  {
   "cell_type": "code",
   "execution_count": 4,
   "metadata": {},
   "outputs": [
    {
     "name": "stdout",
     "output_type": "stream",
     "text": [
      "1 2 3 4 6 12 "
     ]
    }
   ],
   "source": [
    "def  factors(n):\n",
    "    for i in range(1,n+1):\n",
    "        if n%i == 0:\n",
    "            print(i,end = \" \")\n",
    "    return\n",
    "factors(12)"
   ]
  },
  {
   "cell_type": "markdown",
   "metadata": {},
   "source": [
    "# Given number is prime or not"
   ]
  },
  {
   "cell_type": "code",
   "execution_count": 7,
   "metadata": {},
   "outputs": [
    {
     "data": {
      "text/plain": [
       "False"
      ]
     },
     "execution_count": 7,
     "metadata": {},
     "output_type": "execute_result"
    }
   ],
   "source": [
    "def prime(n):\n",
    "    flag = True\n",
    "    for i in range (2,n//2+1):\n",
    "        if n%i == 0:\n",
    "            flag = False \n",
    "            return flag\n",
    "    return flag\n",
    "prime(12)"
   ]
  },
  {
   "cell_type": "markdown",
   "metadata": {},
   "source": [
    "# prime up to n"
   ]
  },
  {
   "cell_type": "code",
   "execution_count": 9,
   "metadata": {},
   "outputs": [
    {
     "data": {
      "text/plain": [
       "4"
      ]
     },
     "execution_count": 9,
     "metadata": {},
     "output_type": "execute_result"
    }
   ],
   "source": [
    "def primecount(n):\n",
    "    cnt=0\n",
    "    for a in range(2,n+1):\n",
    "        k = 0\n",
    "        for i in range(2,a//2+1):\n",
    "            if a % i ==0:\n",
    "                k=k+1\n",
    "        if (k<=0):\n",
    "            cnt = cnt + 1\n",
    "    return cnt\n",
    "primecount(10)        "
   ]
  },
  {
   "cell_type": "markdown",
   "metadata": {},
   "source": [
    "# Factorial of individual numbers"
   ]
  },
  {
   "cell_type": "code",
   "execution_count": 10,
   "metadata": {},
   "outputs": [
    {
     "name": "stdout",
     "output_type": "stream",
     "text": [
      "no\n",
      "no\n"
     ]
    }
   ],
   "source": [
    "def factorial(n):\n",
    "    fact = 1\n",
    "    for i in range (2,n+1):\n",
    "        fact *=1\n",
    "    return fact\n",
    "def digitfactsum(n):\n",
    "    sum=0\n",
    "    buffer=n\n",
    "    while n!=0:\n",
    "        r=n%10\n",
    "        sum += factorial(r)\n",
    "        n =n//10\n",
    "    if sum == buffer:\n",
    "        return \"yes\"\n",
    "    else:\n",
    "        return \"no\"\n",
    "    return\n",
    "print(digitfactsum(145))\n",
    "print(digitfactsum(123))\n",
    "        \n",
    "    "
   ]
  },
  {
   "cell_type": "markdown",
   "metadata": {},
   "source": [
    "# function to return a palindrome"
   ]
  },
  {
   "cell_type": "code",
   "execution_count": 14,
   "metadata": {},
   "outputs": [
    {
     "ename": "NameError",
     "evalue": "name 'rev' is not defined",
     "output_type": "error",
     "traceback": [
      "\u001b[1;31m---------------------------------------------------------------------------\u001b[0m",
      "\u001b[1;31mNameError\u001b[0m                                 Traceback (most recent call last)",
      "\u001b[1;32m<ipython-input-14-bcd826be8d96>\u001b[0m in \u001b[0;36m<module>\u001b[1;34m\u001b[0m\n\u001b[0;32m      6\u001b[0m         \u001b[0mrev\u001b[0m \u001b[1;33m=\u001b[0m \u001b[0mrev\u001b[0m \u001b[1;33m*\u001b[0m \u001b[1;36m10\u001b[0m \u001b[1;33m+\u001b[0m \u001b[0mr\u001b[0m\u001b[1;33m\u001b[0m\u001b[1;33m\u001b[0m\u001b[0m\n\u001b[0;32m      7\u001b[0m         \u001b[0mn\u001b[0m\u001b[1;33m=\u001b[0m\u001b[0mn\u001b[0m\u001b[1;33m//\u001b[0m\u001b[1;36m10\u001b[0m\u001b[1;33m\u001b[0m\u001b[1;33m\u001b[0m\u001b[0m\n\u001b[1;32m----> 8\u001b[1;33m \u001b[1;32mif\u001b[0m \u001b[0mrev\u001b[0m \u001b[1;33m==\u001b[0m \u001b[0mbuffer\u001b[0m\u001b[1;33m:\u001b[0m\u001b[1;33m\u001b[0m\u001b[1;33m\u001b[0m\u001b[0m\n\u001b[0m\u001b[0;32m      9\u001b[0m     \u001b[0mprint\u001b[0m \u001b[1;33m(\u001b[0m\u001b[0mrev\u001b[0m\u001b[1;33m)\u001b[0m\u001b[1;33m\u001b[0m\u001b[1;33m\u001b[0m\u001b[0m\n\u001b[0;32m     10\u001b[0m \u001b[1;33m\u001b[0m\u001b[0m\n",
      "\u001b[1;31mNameError\u001b[0m: name 'rev' is not defined"
     ]
    }
   ],
   "source": [
    "def palindrome(n):\n",
    "    rev = 0\n",
    "    buffer = n\n",
    "    while n!=0:\n",
    "        r=n%10\n",
    "        rev = rev * 10 + r\n",
    "        n=n//10\n",
    "if rev == buffer:\n",
    "    print (rev)\n",
    "     "
   ]
  },
  {
   "cell_type": "markdown",
   "metadata": {},
   "source": [
    "# strings"
   ]
  },
  {
   "cell_type": "code",
   "execution_count": 15,
   "metadata": {},
   "outputs": [
    {
     "name": "stdout",
     "output_type": "stream",
     "text": [
      "python\n",
      "<class 'str'>\n"
     ]
    }
   ],
   "source": [
    "s1 = 'python'\n",
    "print(s1)\n",
    "print(type(s1))"
   ]
  },
  {
   "cell_type": "markdown",
   "metadata": {},
   "source": [
    "# Slicing"
   ]
  },
  {
   "cell_type": "code",
   "execution_count": 20,
   "metadata": {},
   "outputs": [
    {
     "name": "stdout",
     "output_type": "stream",
     "text": [
      "y\n",
      "t\n",
      "h\n",
      "n\n"
     ]
    }
   ],
   "source": [
    "s1 =\"python\"\n",
    "print(s1[1])\n",
    "print(s1[2])\n",
    "print(s1[3])\n",
    "print(s1[len(s1)-1])"
   ]
  },
  {
   "cell_type": "code",
   "execution_count": 5,
   "metadata": {},
   "outputs": [
    {
     "name": "stdout",
     "output_type": "stream",
     "text": [
      "n\n",
      "o\n",
      "py\n",
      "py\n",
      "hon\n",
      "thon\n",
      "otp\n",
      "pto\n",
      "ph\n",
      "nohtyp\n"
     ]
    }
   ],
   "source": [
    "s1 = \"python\"\n",
    "print(s1[-1]) #another way to access the last character\n",
    "print(s1[-2]) #another way to access the second last character\n",
    "print(s1[0:2]) #access the first character\n",
    "print(s1[:2]) #access the first character\n",
    "print(s1[-3:]) #access the last three characters\n",
    "print(s1[2:]) #accessing from the second character to the last one\n",
    "print(s1[-2::-2]) # getting the reverse of a string\n",
    "print(s1[::2]) # two characters (alternate)\n",
    "print(s1[::3]) #three charaters (alternate)\n",
    "print(s1[::-1])\n"
   ]
  },
  {
   "cell_type": "markdown",
   "metadata": {},
   "source": [
    "# slicing and reversing"
   ]
  },
  {
   "cell_type": "code",
   "execution_count": 36,
   "metadata": {},
   "outputs": [
    {
     "data": {
      "text/plain": [
       "'enam'"
      ]
     },
     "execution_count": 36,
     "metadata": {},
     "output_type": "execute_result"
    }
   ],
   "source": [
    "def ReverseString(str):\n",
    "    return str[-1::-1]\n",
    "ReverseString (\"mane\")"
   ]
  },
  {
   "cell_type": "markdown",
   "metadata": {},
   "source": [
    "# ASCII codes\n",
    "# a-z     97-122\n",
    "# A-Z    65-90"
   ]
  },
  {
   "cell_type": "code",
   "execution_count": 2,
   "metadata": {},
   "outputs": [],
   "source": [
    "def printupper(x):\n",
    "    for i in range(len(x)):\n",
    "        if ord(x[i]) >= 65 and ord(x[i]) <= 90:\n",
    "            print(x[i],end = \" \")\n",
    "    return\n",
    "printupper(\"python\")"
   ]
  },
  {
   "cell_type": "markdown",
   "metadata": {},
   "source": [
    "# samecount function"
   ]
  },
  {
   "cell_type": "code",
   "execution_count": 3,
   "metadata": {},
   "outputs": [
    {
     "data": {
      "text/plain": [
       "'Programming'"
      ]
     },
     "execution_count": 3,
     "metadata": {},
     "output_type": "execute_result"
    }
   ],
   "source": [
    "def UpperLower(s):\n",
    "    cntupper = 0\n",
    "    cntlower = 0\n",
    "    for i in range(len(s)):\n",
    "        if ord(s[i]) >= 65  and ord(s[i]) <= 90:\n",
    "            cntupper = cntupper + 1 \n",
    "        elif ord(s[i]) >= 97 and ord(s[i]) <= 122:\n",
    "            cntlower = cntlower + 1\n",
    "    if cntupper == cntlower:\n",
    "        return \"Samecount\"\n",
    "    else:\n",
    "        return \"Programming\"\n",
    "    return\n",
    "UpperLower(\"PytHon\") # samecount\n",
    "UpperLower(\"PYTHon\") # programming\n"
   ]
  },
  {
   "cell_type": "markdown",
   "metadata": {},
   "source": [
    "# sumofdigits"
   ]
  },
  {
   "cell_type": "code",
   "execution_count": 8,
   "metadata": {
    "scrolled": true
   },
   "outputs": [
    {
     "data": {
      "text/plain": [
       "0"
      ]
     },
     "execution_count": 8,
     "metadata": {},
     "output_type": "execute_result"
    }
   ],
   "source": [
    "def sumofdigits(str):\n",
    "    sum = 0\n",
    "    for x in range (len(str)):\n",
    "        if ord(str[x]) >= 48 and ord(str[x]) <= 57:\n",
    "            if(ord(str[x])-48) % 2 == 0:\n",
    "                sum = sum + (ord(str[x])-48)\n",
    "    return sum\n",
    "sumofdigits('application')"
   ]
  },
  {
   "cell_type": "markdown",
   "metadata": {},
   "source": [
    "# uppercase"
   ]
  },
  {
   "cell_type": "code",
   "execution_count": null,
   "metadata": {},
   "outputs": [],
   "source": [
    "def worduppercase(s):\n",
    "    for x in range(len(s)):\n",
    "          if s[x] == 32:\n",
    "    return             \n",
    "worduppercase('python made easy')"
   ]
  }
 ],
 "metadata": {
  "kernelspec": {
   "display_name": "Python 3",
   "language": "python",
   "name": "python3"
  },
  "language_info": {
   "codemirror_mode": {
    "name": "ipython",
    "version": 3
   },
   "file_extension": ".py",
   "mimetype": "text/x-python",
   "name": "python",
   "nbconvert_exporter": "python",
   "pygments_lexer": "ipython3",
   "version": "3.7.3"
  }
 },
 "nbformat": 4,
 "nbformat_minor": 2
}
