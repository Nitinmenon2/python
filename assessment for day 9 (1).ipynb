{
 "cells": [
  {
   "cell_type": "code",
   "execution_count": 9,
   "metadata": {},
   "outputs": [],
   "source": [
    "def findSum(arr,  n):  \n",
    "    arr.sort() \n",
    "    sum = arr[0] \n",
    "    for i in range(0,n-1): \n",
    "        if (arr[i] != arr[i+1]): \n",
    "            sum = sum + arr[i+1] \n",
    "    return sum \n",
    "def main(): \n",
    "    arr= [1, 2, 3, 1, 1, 4, 5, 6] \n",
    "    n = len(arr) \n",
    "    print(findSum(arr, n)) \n",
    "    "
   ]
  },
  {
   "cell_type": "code",
   "execution_count": 10,
   "metadata": {},
   "outputs": [
    {
     "name": "stdout",
     "output_type": "stream",
     "text": [
      "3 2 1 1 0 "
     ]
    }
   ],
   "source": [
    "# To print fibonacci numbers in reverse order with input as 5\n",
    "def reverseFibonacci(n): \n",
    "    a = [0] * n   \n",
    "    a[0] = 0 \n",
    "    a[1] = 1  \n",
    "    for i in range(2, n):    \n",
    "        a[i] = a[i - 2] + a[i - 1]  \n",
    "    for i in range(n - 1, -1 , -1):   \n",
    "        print(a[i],end=\" \")   \n",
    "n = 5\n",
    "reverseFibonacci(n)  "
   ]
  },
  {
   "cell_type": "code",
   "execution_count": 11,
   "metadata": {},
   "outputs": [
    {
     "name": "stdout",
     "output_type": "stream",
     "text": [
      "89 55 34 21 13 8 5 3 2 1 1 0 "
     ]
    }
   ],
   "source": [
    "# To print fibonacci numbers in reverse order with input as 12\n",
    "def reverseFibonacci(n): \n",
    "    a = [0] * n   \n",
    "    a[0] = 0 \n",
    "    a[1] = 1  \n",
    "    for i in range(2, n):    \n",
    "        a[i] = a[i - 2] + a[i - 1]  \n",
    "    for i in range(n - 1, -1 , -1):   \n",
    "        print(a[i],end=\" \")   \n",
    "n = 12\n",
    "reverseFibonacci(n)  "
   ]
  },
  {
   "cell_type": "code",
   "execution_count": 12,
   "metadata": {},
   "outputs": [
    {
     "name": "stdout",
     "output_type": "stream",
     "text": [
      "6\n"
     ]
    }
   ],
   "source": [
    "#The program must accept a string S as the input. The program print the longest word from the string S as the output. If two or more longest words are of same length then consider the first one.\n",
    "def LongestWordLength(str): \n",
    "    n = len(str) \n",
    "    res = 0; curr_len = 0\n",
    "    for i in range(0, n):  \n",
    "        if (str[i] != ' '): \n",
    "            curr_len += 1 \n",
    "        else: \n",
    "            res = max(res, curr_len) \n",
    "            curr_len = 0 \n",
    "    return max(res, curr_len)  \n",
    "s = \"Python is stupid\"\n",
    "print(LongestWordLength(s)) "
   ]
  },
  {
   "cell_type": "code",
   "execution_count": 1,
   "metadata": {},
   "outputs": [],
   "source": [
    "def printPattern(n) : \n",
    "    j, k = 0, 0  \n",
    "    for i in range(1, n + 1) :   \n",
    "        if i % 2 != 0 : \n",
    "            for j in range(k + 1, k + i) : \n",
    "                print(str(j) + \"*\", end = \"\") \n",
    "            j = k + i \n",
    "            print(j) \n",
    "            j += 1\n",
    "            k = j \n",
    "        else :   \n",
    "            k = k + i - 1  \n",
    "            for j in range(k, k - i + 1, -1) : \n",
    "                print(str(j) + \"*\", end = \"\") \n",
    "            j = k - i + 1\n",
    "            print(j) \n",
    "if __name__ == \"__main__\" : \n",
    "    n = 5"
   ]
  },
  {
   "cell_type": "code",
   "execution_count": null,
   "metadata": {},
   "outputs": [],
   "source": [
    "The program must accept two string values S1 and S2. The program must print the pattern as shown in the \n",
    "Example Input/Output sections.\n"
   ]
  },
  {
   "cell_type": "code",
   "execution_count": 4,
   "metadata": {},
   "outputs": [
    {
     "name": "stdout",
     "output_type": "stream",
     "text": [
      "enter how many times to stop5\n"
     ]
    },
    {
     "data": {
      "text/plain": [
       "[1, 3, 9, 27, 81]"
      ]
     },
     "execution_count": 4,
     "metadata": {},
     "output_type": "execute_result"
    }
   ],
   "source": [
    "# Series Generations:-  1, 3, 9, 27, 81, ...\n",
    "x=[1]\n",
    "n=(int(input(\"enter how many times to stop\")))\n",
    "for y in range (1,n):\n",
    "  x.append(x[y-1]*3)\n",
    "x"
   ]
  },
  {
   "cell_type": "code",
   "execution_count": 5,
   "metadata": {},
   "outputs": [
    {
     "name": "stdout",
     "output_type": "stream",
     "text": [
      "enter how many times to stop10\n"
     ]
    },
    {
     "data": {
      "text/plain": [
       "[1, 2, 4, 8, 16, 32, 64, 128, 256, 512]"
      ]
     },
     "execution_count": 5,
     "metadata": {},
     "output_type": "execute_result"
    }
   ],
   "source": [
    "# Series Generations:-  1, 2, 4, 8, 16, 32, 64, 128, 256, ...\n",
    "x=[1]\n",
    "n=(int(input(\"enter how many times to stop\")))\n",
    "for y in range (1,n):\n",
    "  x.append(x[y-1]*2)\n",
    "x\n"
   ]
  },
  {
   "cell_type": "code",
   "execution_count": 6,
   "metadata": {},
   "outputs": [
    {
     "name": "stdout",
     "output_type": "stream",
     "text": [
      "Enter number:50\n",
      "*****\n",
      "\n"
     ]
    }
   ],
   "source": [
    "n=int(input(\"Enter number:\"))\n",
    "m = str(n)\n",
    "count=0\n",
    "while(n>0):\n",
    "   count=count+1\n",
    "   n=n//10\n",
    "i=0\n",
    "for i in range(count):\n",
    "   print('*'*int(m[i]))"
   ]
  },
  {
   "cell_type": "code",
   "execution_count": 10,
   "metadata": {},
   "outputs": [
    {
     "ename": "IndentationError",
     "evalue": "expected an indented block (<ipython-input-10-5c162af19cee>, line 9)",
     "output_type": "error",
     "traceback": [
      "\u001b[1;36m  File \u001b[1;32m\"<ipython-input-10-5c162af19cee>\"\u001b[1;36m, line \u001b[1;32m9\u001b[0m\n\u001b[1;33m    if len(list[i]) > large:\u001b[0m\n\u001b[1;37m     ^\u001b[0m\n\u001b[1;31mIndentationError\u001b[0m\u001b[1;31m:\u001b[0m expected an indented block\n"
     ]
    }
   ],
   "source": [
    "#The program must accept a string S as the input. The program print the longest word from the string S as the output.\n",
    "# If two or more longest words are of same length then consider the first one.\n",
    "def longestWord(str):\n",
    "        list = []\n",
    "        list = str.split()\n",
    "        large = 0\n",
    "        j = 0\n",
    "        for i in range(0,len(list)):\n",
    "        if len(list[i]) > large:\n",
    "            large = len(list[i])\n",
    "            j = i\n",
    "        return list[j]\n",
    "longestWord(\"Starry eyed\")"
   ]
  },
  {
   "cell_type": "code",
   "execution_count": 11,
   "metadata": {},
   "outputs": [
    {
     "name": "stdout",
     "output_type": "stream",
     "text": [
      "1\n",
      "1\n",
      "3\n",
      "2\n",
      "9\n"
     ]
    }
   ],
   "source": [
    "#The order of series must be 1, 1, 2, 3, 4, 9, 8, 27, 16, 81, 32, 243, 64, 729, 128, 2187, 256, 6561, 512, 19683, ... \n",
    "#This series is a mixture of 2 series - all the odd terms in this series form a geometric series and all the even terms form another geometric series.\n",
    "?\n",
    "def series2(n):\n",
    "  k = 0\n",
    "  j = 0\n",
    "  e = 2\n",
    "  o = 3\n",
    "  for i in range(1,n+1):\n",
    "    if i%2==0:\n",
    "      print(e**j)\n",
    "      j = j + 1\n",
    "    else:\n",
    "      print(o**k)\n",
    "      k = k + 1\n",
    "  return\n",
    "series2(5)"
   ]
  },
  {
   "cell_type": "code",
   "execution_count": 14,
   "metadata": {},
   "outputs": [
    {
     "name": "stdout",
     "output_type": "stream",
     "text": [
      "153\n"
     ]
    }
   ],
   "source": [
    "# 1! + 2! + 3! +....+n!\n",
    "def factsum(n):\n",
    "  sum = 0\n",
    "  for i in range(1,n+1):\n",
    "    fact(i)\n",
    "    sum = sum + fact(i)\n",
    "  print(sum)  \n",
    "  return\n",
    "def fact(n):\n",
    "  fact =1\n",
    "  for i in range(2,n+1):\n",
    "    fact=fact*i\n",
    "  return fact\n",
    "factsum(5)"
   ]
  },
  {
   "cell_type": "code",
   "execution_count": null,
   "metadata": {},
   "outputs": [],
   "source": []
  }
 ],
 "metadata": {
  "kernelspec": {
   "display_name": "Python 3",
   "language": "python",
   "name": "python3"
  },
  "language_info": {
   "codemirror_mode": {
    "name": "ipython",
    "version": 3
   },
   "file_extension": ".py",
   "mimetype": "text/x-python",
   "name": "python",
   "nbconvert_exporter": "python",
   "pygments_lexer": "ipython3",
   "version": "3.7.3"
  }
 },
 "nbformat": 4,
 "nbformat_minor": 2
}
